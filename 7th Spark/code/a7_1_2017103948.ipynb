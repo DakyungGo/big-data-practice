{
 "cells": [
  {
   "cell_type": "code",
   "execution_count": 2,
   "id": "c496d8b0",
   "metadata": {},
   "outputs": [
    {
     "data": {
      "text/plain": [
       "[('ele', 1), ('rat', 2), ('cat', 2)]"
      ]
     },
     "execution_count": 2,
     "metadata": {},
     "output_type": "execute_result"
    }
   ],
   "source": [
    "#7th_spark_introduction\n",
    "wordsList = ['cat', 'ele', 'rat', 'rat', 'cat']\n",
    "wordsRDD = sc.parallelize(wordsList)\n",
    "\n",
    "result = wordsRDD.map(lambda x : (x, 1)).reduceByKey(lambda x,y: x+y).collect()\n",
    "result"
   ]
  },
  {
   "cell_type": "code",
   "execution_count": 8,
   "id": "1080e3f1",
   "metadata": {},
   "outputs": [
    {
     "data": {
      "text/plain": [
       "['Alex loves writing', 'Alex loves gym', 'Bert loves swimming']"
      ]
     },
     "execution_count": 8,
     "metadata": {},
     "output_type": "execute_result"
    }
   ],
   "source": [
    "#7th_RDD_basic\n",
    "\n",
    "input1 = [(0, \"Alex\"), (1, \"Bert\"), (2, \"Curt\"), (3, \"Don\")]\n",
    "input2 = [(0, \"writing\"), (0, \"gym\"), (1, \"swimming\")]\n",
    "RDD1 = sc.parallelize(input1)\n",
    "RDD2 = sc.parallelize(input2)\n",
    "\n",
    "joined = RDD1.rightOuterJoin(RDD2).collect()\n",
    "#print(joined)\n",
    "result = list(map(lambda x: x[1][0] + ' loves ' + x[1][1], joined))\n",
    "result"
   ]
  },
  {
   "cell_type": "code",
   "execution_count": 11,
   "id": "1204bc1f",
   "metadata": {},
   "outputs": [],
   "source": [
    "#7th_RDD_advanced\n",
    "\n",
    "import json\n",
    "\n",
    "def lovePandas(line):\n",
    "    #구현\n",
    "    if 'lovePandas' in line and line['lovePandas'] == True:\n",
    "        return True\n",
    "    return False\n",
    "    \n",
    "input = sc.textFile(\"./data/pandainfo.json\")\n",
    "json_data = input.map(lambda x: json.loads(x))\n",
    "json_data.collect()\n",
    "pandas_data = json_data.filter(lovePandas).map(lambda x: json.dumps(x))\n",
    "pandas_data.saveAsTextFile('output_pandas')"
   ]
  },
  {
   "cell_type": "code",
   "execution_count": null,
   "id": "6abec43b",
   "metadata": {},
   "outputs": [],
   "source": []
  }
 ],
 "metadata": {
  "kernelspec": {
   "display_name": "Python 3",
   "language": "python",
   "name": "python3"
  },
  "language_info": {
   "codemirror_mode": {
    "name": "ipython",
    "version": 3
   },
   "file_extension": ".py",
   "mimetype": "text/x-python",
   "name": "python",
   "nbconvert_exporter": "python",
   "pygments_lexer": "ipython3",
   "version": "3.9.2"
  }
 },
 "nbformat": 4,
 "nbformat_minor": 5
}
