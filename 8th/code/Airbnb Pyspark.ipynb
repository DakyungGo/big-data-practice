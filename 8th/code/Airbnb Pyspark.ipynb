{
 "cells": [
  {
   "cell_type": "code",
   "execution_count": 1,
   "id": "50edee8e",
   "metadata": {},
   "outputs": [],
   "source": [
    "from pyspark.sql import SQLContext, Row\n",
    "from pyspark.sql.types import StringType,IntegerType\n",
    "from pyspark.sql.functions import udf,lit\n",
    "from pyspark.sql import functions as F\n",
    "\n",
    "\n",
    "sqlContext = SQLContext(sc)"
   ]
  },
  {
   "cell_type": "code",
   "execution_count": 2,
   "id": "5833bce1",
   "metadata": {},
   "outputs": [],
   "source": [
    "file_name = \"./airbnb.csv\"\n",
    "airbnb_rdd = sc.textFile(file_name)\n",
    "\n",
    "header = airbnb_rdd.first() #extract header\n",
    "airbnb_rdd = airbnb_rdd.filter(lambda row: row != header)\n",
    "\n",
    "airbnb_rdd = airbnb_rdd.map(lambda x: x.split(','))\n",
    "airbnb_rows = airbnb_rdd.map(lambda x: Row(room_id=x[0], host_id=x[1], room_type=x[2], borough=x[3], neighborhood=x[4],\n",
    "                                      reviews=x[5], overall_satisfaction=x[6], accommodates=x[7], bedrooms=x[8],\n",
    "                                      price=x[9], minstay=x[10], latitude=x[11], longitude=x[12], last_modified=x[13]))\n",
    "airbnb_df = sqlContext.createDataFrame(airbnb_rows) #rdd > DF\n",
    "\n",
    "#overall_satisfaction 빈 값 채우기\n",
    "updated = udf(lambda x: '3' if x=='' else x, StringType())\n",
    "airbnb_df = airbnb_df.withColumn('overall_satisfaction', updated(airbnb_df.overall_satisfaction))\n",
    "#airbnb_df.show()\n"
   ]
  },
  {
   "cell_type": "code",
   "execution_count": 3,
   "id": "2446f77f",
   "metadata": {},
   "outputs": [
    {
     "name": "stdout",
     "output_type": "stream",
     "text": [
      "+--------+--------+-----------+\n",
      "| room_id| host_id|total_score|\n",
      "+--------+--------+-----------+\n",
      "|11757251|26873897|      2.134|\n",
      "|13066225|42820495|        3.0|\n",
      "| 2513870|12867663|        3.0|\n",
      "| 6551454|29224952|        3.0|\n",
      "|10153739|30283594|        3.0|\n",
      "|12808014|28197086|        3.0|\n",
      "|12897590|70637430|        3.0|\n",
      "| 5824015|30228015|        3.0|\n",
      "|12563549|34226261|        3.0|\n",
      "|13007354|20696611|        3.0|\n",
      "|12890140|54064917|        3.0|\n",
      "|10118379|30283594|        3.0|\n",
      "|11432300|60063253|        3.0|\n",
      "|13062783|44620221|        3.0|\n",
      "|10053369|30283594|        3.0|\n",
      "|11256475|54064917|        3.0|\n",
      "| 7052847|10336060|        3.0|\n",
      "| 9992532|30283594|        3.0|\n",
      "| 2443944| 4442258|        3.0|\n",
      "|12254824| 2086352|        3.0|\n",
      "+--------+--------+-----------+\n",
      "only showing top 20 rows\n",
      "\n",
      "+-------+-------+-----------+\n",
      "|room_id|host_id|total_score|\n",
      "+-------+-------+-----------+\n",
      "|  66288| 324630|     149.53|\n",
      "| 414419|2027295|    111.474|\n",
      "|1497879|2776892|    110.718|\n",
      "|  31796| 119019|    103.536|\n",
      "| 916123|3637081|     98.622|\n",
      "| 815639|3637081|     98.622|\n",
      "|1136972|1480518|     97.232|\n",
      "|  47521| 119019|      89.55|\n",
      "|1695275| 324630|     88.294|\n",
      "|2776143| 324630|     84.892|\n",
      "| 197972| 965697|     84.002|\n",
      "| 766700|3637081|     83.502|\n",
      "|1615033|3637081|     82.746|\n",
      "|  22354|  85770|     81.234|\n",
      "|1141522|1407005|     81.234|\n",
      "|1472520|6608084|     80.222|\n",
      "| 708802|3648427|     79.844|\n",
      "|1472481|6608084|     79.844|\n",
      "|1147871|1407005|     78.966|\n",
      "|1544702|6608084|      78.71|\n",
      "+-------+-------+-----------+\n",
      "only showing top 20 rows\n",
      "\n"
     ]
    }
   ],
   "source": [
    "#total_score\n",
    "airbnb_df_1 = airbnb_df.withColumn('total_score',airbnb_df['overall_satisfaction']+airbnb_df['reviews']*0.378)\n",
    "\n",
    "df1 = airbnb_df_1.select(airbnb_df_1.room_id, airbnb_df_1.host_id, airbnb_df_1.total_score)\n",
    "df1.registerTempTable('airbnb_df_1')\n",
    "query1 = 'SELECT room_id, host_id, total_score FROM airbnb_df_1 ORDER BY total_score'\n",
    "result1 = sqlContext.sql(query1)\n",
    "result1.show()\n",
    "result1.coalesce(1).write.format(\"com.databricks.spark.csv\").option(\"header\", \"true\").save(\"sorted_total_score_ascend.csv\")\n",
    "\n",
    "query2 = 'SELECT room_id, host_id, total_score FROM airbnb_df_1 ORDER BY total_score desc'\n",
    "result2 = sqlContext.sql(query2)\n",
    "result2.show()\n",
    "result1.coalesce(1).write.format(\"com.databricks.spark.csv\").option(\"header\", \"true\").save(\"sorted_total_score_ascend.csv\")\n"
   ]
  },
  {
   "cell_type": "code",
   "execution_count": 4,
   "id": "379bfc5e",
   "metadata": {},
   "outputs": [
    {
     "name": "stdout",
     "output_type": "stream",
     "text": [
      "+--------------------+------------------+---------------------------+------------------+--------------+--------------+------------+------------+\n",
      "|        neighborhood|    avg of reviews|avg of overall_satisfaction|      avg of price|max of reviews|min of reviews|max of price|min of price|\n",
      "+--------------------+------------------+---------------------------+------------------+--------------+--------------+------------+------------+\n",
      "|             Allston| 10.31400966183575|          3.710144927536232|100.01932367149759|            92|             0|        99.0|       100.0|\n",
      "|            Back Bay|11.296819787985866|         3.9558303886925796|237.51590106007066|             9|             0|        99.0|       100.0|\n",
      "|         Bay Village|10.947368421052632|         3.9473684210526314| 254.1578947368421|             8|             0|        99.0|       120.0|\n",
      "|         Beacon Hill|              17.8|          4.087804878048781|215.90731707317073|            91|             0|        99.0|       100.0|\n",
      "|            Brighton|             13.25|                       3.85|113.95555555555555|            90|             0|       999.0|        10.0|\n",
      "|         Charlestown| 24.43076923076923|                        4.2|228.53846153846155|            95|             0|        99.0|       100.0|\n",
      "|           Chinatown|11.909090909090908|         3.8545454545454545|254.92727272727274|             9|             0|        92.0|       100.0|\n",
      "|          Dorchester|              25.0|                    4.03125|            91.575|            99|             0|        99.0|       100.0|\n",
      "|            Downtown|14.671052631578947|         3.9210526315789473|241.18421052631578|            95|             0|        99.0|       100.0|\n",
      "|         East Boston| 28.53174603174603|          4.182539682539683|115.48412698412699|            98|             0|        99.0|       100.0|\n",
      "|              Fenway| 8.094594594594595|         3.6621621621621623|218.77027027027026|             9|             0|        99.0|       100.0|\n",
      "|           Hyde Park| 9.615384615384615|          3.923076923076923| 92.57692307692308|             7|             0|        87.0|       150.0|\n",
      "|       Jamaica Plain|22.406349206349205|          4.177777777777778|140.41587301587302|            99|             0|        99.0|       100.0|\n",
      "|    Leather District|             9.125|                        4.0|            342.75|             3|             0|       571.0|       159.0|\n",
      "|Longwood Medical ...|52.333333333333336|          4.083333333333333| 99.33333333333333|            94|             0|        84.0|       100.0|\n",
      "|            Mattapan|              14.4|                      3.675|             78.65|            69|             0|        95.0|       100.0|\n",
      "|        Mission Hill|11.346534653465346|          3.633663366336634|132.16831683168317|             9|             0|        99.0|       100.0|\n",
      "|           North End|25.401515151515152|          4.140151515151516|183.13636363636363|            99|             0|        99.0|       100.0|\n",
      "|          Roslindale|26.696428571428573|          4.491071428571429| 94.60714285714286|             9|             0|        99.0|       100.0|\n",
      "|             Roxbury|22.802721088435373|          4.085034013605442| 148.3673469387755|            97|             0|        99.0|       100.0|\n",
      "+--------------------+------------------+---------------------------+------------------+--------------+--------------+------------+------------+\n",
      "only showing top 20 rows\n",
      "\n"
     ]
    }
   ],
   "source": [
    "airbnb_df_2 = airbnb_df.select('reviews','overall_satisfaction','price','neighborhood')\n",
    "airbnb_df_2 = airbnb_df_2.groupBy('neighborhood').agg(F.mean('reviews'), F.mean('overall_satisfaction'),\n",
    "                                                      F.mean('price'), F.max('reviews'), F.min('reviews'),\n",
    "                                                      F.max('price'), F.min('price'))\n",
    "airbnb_df_2 = (airbnb_df_2.withColumnRenamed('avg(reviews)', 'avg of reviews')\n",
    "              .withColumnRenamed('avg(overall_satisfaction)', 'avg of overall_satisfaction')\n",
    "              .withColumnRenamed('avg(price)', 'avg of price')\n",
    "              .withColumnRenamed('max(reviews)', 'max of reviews')\n",
    "              .withColumnRenamed('min(reviews)', 'min of reviews')\n",
    "              .withColumnRenamed('max(price)', 'max of price')\n",
    "              .withColumnRenamed('min(price)', 'min of price'))\n",
    "\n",
    "airbnb_df_2 = airbnb_df_2.sort('neighborhood')\n",
    "\n",
    "airbnb_df_2.show()\n",
    "airbnb_df_2.coalesce(1).write.format(\"com.databricks.spark.csv\").option(\"header\", \"true\").save(\"sorted_neighborhood_factors.csv\")\n"
   ]
  },
  {
   "cell_type": "code",
   "execution_count": 40,
   "id": "dc565ce5",
   "metadata": {},
   "outputs": [
    {
     "name": "stdout",
     "output_type": "stream",
     "text": [
      "+---------+--------------------+-------------------+------------------+---------------+------------------+--------------+--------------------+------+\n",
      "|    PRICE|accommodates average|accommodates median|  bedrooms average|bedrooms median|   reviews average|reviews median|       neighbor_list|length|\n",
      "+---------+--------------------+-------------------+------------------+---------------+------------------+--------------+--------------------+------+\n",
      "|    0-100|                 6.0|                6.0|               3.0|            3.0|               0.0|           0.0|            Brighton|     1|\n",
      "|  100-200|              2.9832|                2.0| 1.107457898957498|            1.0|           16.9688|           5.0|Jamaica Plain,Bea...|  1250|\n",
      "|  200-300|   3.792517006802721|                4.0|1.5197934595524958|            1.0|13.615646258503402|           4.0|Back Bay,Jamaica ...|   588|\n",
      "|  300-400|   4.011627906976744|                4.0|1.7713178294573644|            2.0|10.666666666666666|           3.0|South End,South B...|   258|\n",
      "|  400-500|  2.8450704225352115|                2.0|1.3380281690140845|            1.0| 7.657276995305164|           1.0|Allston,Allston,A...|   213|\n",
      "|1000-5000|   5.684210526315789|                5.0|2.5789473684210527|            2.0| 9.578947368421053|           4.0|Jamaica Plain,Bea...|    19|\n",
      "+---------+--------------------+-------------------+------------------+---------------+------------------+--------------+--------------------+------+\n",
      "\n"
     ]
    }
   ],
   "source": [
    "airbnb_df_3 = airbnb_df.select('price','accommodates','bedrooms','reviews','neighborhood')\n",
    "\n",
    "grouped = udf(lambda x:\n",
    "              '0-100' if x>='0' and x<'100' \n",
    "              else ('100-200' if x>='100' and x<'200' \n",
    "                   else('200-300' if x>='200' and x<'300'\n",
    "                       else('300-400' if x>='300' and x<'400'\n",
    "                           else('400-500' if x>='400' and x<'500'\n",
    "                               else('500-1000' if x>='500' and x<'1000'\n",
    "                                   else('1000-5000' if x>='1000' and x<'5000'\n",
    "                                       else '')))))),StringType())\n",
    "\n",
    "update_neighbor = udf(lambda x: \",\".join(x))\n",
    "\n",
    "airbnb_df_3 = airbnb_df_3.withColumn('PRICE',grouped(airbnb_df_3.price))\n",
    "airbnb_df_3 = airbnb_df_3.groupBy('PRICE').agg(F.mean('accommodates').alias('accommodates average'),\n",
    "                                              F.percentile_approx('accommodates',0.5).alias('accommodates median'),\n",
    "                                              F.mean('bedrooms').alias('bedrooms average'),\n",
    "                                              F.percentile_approx('bedrooms',0.5).alias('bedrooms median'),\n",
    "                                              F.mean('reviews').alias('reviews average'),\n",
    "                                              F.percentile_approx('reviews',0.5).alias('reviews median'),\n",
    "                                              F.collect_list('neighborhood').alias('neighbor_list'),\n",
    "                                              F.count('accommodates').alias('length'))\n",
    "airbnb_df_3 = airbnb_df_3.filter(airbnb_df_3.PRICE != '')\n",
    "airbnb_df_3 = airbnb_df_3.withColumn('neighbor_list',update_neighbor(airbnb_df_3.neighbor_list))\n",
    "airbnb_df_3 = airbnb_df_3.orderBy(F.split(airbnb_df_3.PRICE, '-').getItem(0).cast(IntegerType()))\n",
    "\n",
    "airbnb_df_3.show()\n",
    "airbnb_df_3.coalesce(1).write.format(\"com.databricks.spark.csv\").option(\"header\", \"true\").save(\"sorted_ranged_price.csv\")"
   ]
  },
  {
   "cell_type": "code",
   "execution_count": null,
   "id": "fcb6c3f9",
   "metadata": {},
   "outputs": [],
   "source": []
  },
  {
   "cell_type": "code",
   "execution_count": null,
   "id": "8033ec06",
   "metadata": {},
   "outputs": [],
   "source": []
  }
 ],
 "metadata": {
  "kernelspec": {
   "display_name": "Python 3",
   "language": "python",
   "name": "python3"
  },
  "language_info": {
   "codemirror_mode": {
    "name": "ipython",
    "version": 3
   },
   "file_extension": ".py",
   "mimetype": "text/x-python",
   "name": "python",
   "nbconvert_exporter": "python",
   "pygments_lexer": "ipython3",
   "version": "3.9.2"
  }
 },
 "nbformat": 4,
 "nbformat_minor": 5
}
