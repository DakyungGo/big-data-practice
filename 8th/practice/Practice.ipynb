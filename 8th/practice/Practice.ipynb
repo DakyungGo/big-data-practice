{
 "cells": [
  {
   "cell_type": "code",
   "execution_count": 1,
   "id": "2d550d6f",
   "metadata": {},
   "outputs": [],
   "source": [
    "from pyspark.sql import SQLContext, Row\n",
    "sqlContext = SQLContext(sc)"
   ]
  },
  {
   "cell_type": "code",
   "execution_count": 6,
   "id": "33dc3f5a",
   "metadata": {},
   "outputs": [
    {
     "data": {
      "text/plain": [
       "[['0', 'Alex', '30', '123'],\n",
       " ['1', 'Bert', '32', '234'],\n",
       " ['2', 'Curt', '28', '312'],\n",
       " ['3', 'Don', '32', '89']]"
      ]
     },
     "execution_count": 6,
     "metadata": {},
     "output_type": "execute_result"
    }
   ],
   "source": [
    "file_name = \"./data/user_info.csv\"\n",
    "user_rdd = sc.textFile(file_name)\n",
    "user_rdd = user_rdd.map(lambda x: x.split(','))\n",
    "user_rdd.collect() #text > rdd"
   ]
  },
  {
   "cell_type": "code",
   "execution_count": 3,
   "id": "024f9fe7",
   "metadata": {},
   "outputs": [],
   "source": []
  },
  {
   "cell_type": "code",
   "execution_count": 7,
   "id": "1198f63b",
   "metadata": {},
   "outputs": [
    {
     "name": "stdout",
     "output_type": "stream",
     "text": [
      "+---+---+----+-----------+\n",
      "| id|age|name|num_friends|\n",
      "+---+---+----+-----------+\n",
      "|  0| 30|Alex|        123|\n",
      "|  1| 32|Bert|        234|\n",
      "|  2| 28|Curt|        312|\n",
      "|  3| 32| Don|         89|\n",
      "+---+---+----+-----------+\n",
      "\n"
     ]
    }
   ],
   "source": [
    "user_rows = user_rdd.map(lambda x: Row(id=x[0], age=x[2], name=x[1], num_friends=x[3]))\n",
    "user_df = sqlContext.createDataFrame(user_rows) #rdd > DF\n",
    "user_df.show()"
   ]
  },
  {
   "cell_type": "code",
   "execution_count": null,
   "id": "fdd28a5a",
   "metadata": {},
   "outputs": [],
   "source": []
  }
 ],
 "metadata": {
  "kernelspec": {
   "display_name": "Python 3",
   "language": "python",
   "name": "python3"
  },
  "language_info": {
   "codemirror_mode": {
    "name": "ipython",
    "version": 3
   },
   "file_extension": ".py",
   "mimetype": "text/x-python",
   "name": "python",
   "nbconvert_exporter": "python",
   "pygments_lexer": "ipython3",
   "version": "3.9.2"
  }
 },
 "nbformat": 4,
 "nbformat_minor": 5
}
